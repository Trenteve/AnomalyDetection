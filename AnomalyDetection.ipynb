{
 "cells": [
  {
   "cell_type": "code",
   "execution_count": 50,
   "id": "f2639785",
   "metadata": {},
   "outputs": [],
   "source": [
    "import numpy as np\n",
    "from collections import defaultdict\n",
    "import time\n",
    "import datetime\n",
    "import torch\n",
    "import torchvision\n",
    "import matplotlib.pyplot as plt\n",
    "import torch.nn as nn\n",
    "import torchvision.transforms as transforms\n",
    "import glob\n",
    "import os"
   ]
  },
  {
   "cell_type": "code",
   "execution_count": 51,
   "id": "cc55ce8b-07a1-4185-ab2c-fe00b14d7905",
   "metadata": {},
   "outputs": [
    {
     "data": {
      "text/plain": [
       "'cuda'"
      ]
     },
     "execution_count": 51,
     "metadata": {},
     "output_type": "execute_result"
    }
   ],
   "source": [
    "device ='cuda' if torch.cuda.is_available() else 'cpu'\n",
    "device"
   ]
  },
  {
   "cell_type": "code",
   "execution_count": 52,
   "id": "b546c721-4d3e-4279-99a4-4f4140624b44",
   "metadata": {},
   "outputs": [
    {
     "name": "stderr",
     "output_type": "stream",
     "text": [
      "/home/nbuser/anaconda3/envs/mypy3/lib/python3.9/site-packages/torchvision/models/_utils.py:208: UserWarning: The parameter 'pretrained' is deprecated since 0.13 and may be removed in the future, please use 'weights' instead.\n",
      "  warnings.warn(\n",
      "/home/nbuser/anaconda3/envs/mypy3/lib/python3.9/site-packages/torchvision/models/_utils.py:223: UserWarning: Arguments other than a weight enum or `None` for 'weights' are deprecated since 0.13 and may be removed in the future. The current behavior is equivalent to passing `weights=ResNet18_Weights.IMAGENET1K_V1`. You can also use `weights=ResNet18_Weights.DEFAULT` to get the most up-to-date weights.\n",
      "  warnings.warn(msg)\n"
     ]
    }
   ],
   "source": [
    "#load pretrained model\n",
    "model = torchvision.models.resnet18(pretrained=True)\n",
    "num_ftrs = model.fc.in_features\n",
    "\n",
    "model.fc = torch.nn.Linear(num_ftrs, 2)"
   ]
  },
  {
   "cell_type": "code",
   "execution_count": 53,
   "id": "e1568c85-cbf4-4af2-83a4-18d516f051fe",
   "metadata": {},
   "outputs": [],
   "source": [
    "for param in model.parameters():\n",
    "    param.requires_grad = False\n",
    "model.fc.weight.requires_grad = True\n",
    "model.fc.bias.requires_grad = True"
   ]
  },
  {
   "cell_type": "code",
   "execution_count": 54,
   "id": "3d142d7b-b135-48d0-a17a-a76e99a31c31",
   "metadata": {},
   "outputs": [],
   "source": [
    "transform = transforms.Compose([\n",
    "    transforms.Resize((224, 224)), \n",
    "    transforms.ToTensor(),\n",
    "    transforms.Normalize(mean=[0.485, 0.456, 0.406],\n",
    "                         std=[0.229, 0.224, 0.225])\n",
    "])\n",
    "\n",
    "trainset = torchvision.datasets.ImageFolder(root=\"poison/notebooks/data/noisy_vs_clean/train\",transform=transform)\n",
    "trainloader = torch.utils.data.DataLoader(trainset, batch_size=32, shuffle=True, num_workers=4)\n",
    "\n",
    "testset = torchvision.datasets.ImageFolder(root=\"poison/notebooks/data/noisy_vs_clean/test\",transform=transform)\n",
    "testloader = torch.utils.data.DataLoader(testset, batch_size=32, shuffle=False, num_workers=4)\n",
    "\n",
    "EPOCHS=10\n",
    "BATCH_SIZE = 32\n",
    "TOTAL_SIZE = 9800\n",
    "STEPS_PER_EPOCH = TOTAL_SIZE // BATCH_SIZE\n",
    "TOTAL_TEST_SIZE = 200 \n",
    "STEPS_PER_TEST_EPOCH = TOTAL_TEST_SIZE // BATCH_SIZE"
   ]
  },
  {
   "cell_type": "code",
   "execution_count": 55,
   "id": "be43e011-fdf5-4d02-9cb7-247c0884e508",
   "metadata": {},
   "outputs": [
    {
     "data": {
      "text/plain": [
       "Dataset ImageFolder\n",
       "    Number of datapoints: 9800\n",
       "    Root location: poison/notebooks/data/noisy_vs_clean/train\n",
       "    StandardTransform\n",
       "Transform: Compose(\n",
       "               Resize(size=(224, 224), interpolation=bilinear, max_size=None, antialias=warn)\n",
       "               ToTensor()\n",
       "               Normalize(mean=[0.485, 0.456, 0.406], std=[0.229, 0.224, 0.225])\n",
       "           )"
      ]
     },
     "execution_count": 55,
     "metadata": {},
     "output_type": "execute_result"
    }
   ],
   "source": [
    "trainset"
   ]
  },
  {
   "cell_type": "code",
   "execution_count": 56,
   "id": "73e855ae-330b-48df-83b9-f1ebd8c9fe88",
   "metadata": {},
   "outputs": [
    {
     "data": {
      "text/plain": [
       "['cleanfrog', 'realNoisyFrogs']"
      ]
     },
     "execution_count": 56,
     "metadata": {},
     "output_type": "execute_result"
    }
   ],
   "source": [
    "trainset.classes"
   ]
  },
  {
   "cell_type": "code",
   "execution_count": 57,
   "id": "796909e5-930b-4a8f-9cb5-e1871beb3cc7",
   "metadata": {},
   "outputs": [],
   "source": [
    "device = torch.device(\"cuda:0\" if torch.cuda.is_available() else \"cpu\")\n",
    "model.to(device)  # Sending model to device\n",
    "criterion = nn.CrossEntropyLoss()\n",
    "optimizer = torch.optim.Adam(\n",
    "    model.fc.parameters(), lr=0.0007\n",
    ")  # lr should be kept low so that the pre-trained weights don't change easily"
   ]
  },
  {
   "cell_type": "code",
   "execution_count": 58,
   "id": "1254f433-6658-43cc-a2ff-ead0d19cf0b7",
   "metadata": {},
   "outputs": [],
   "source": [
    "def get_test():\n",
    "    test_loss = []\n",
    "    correct = 0\n",
    "    incorrect = 0\n",
    "\n",
    "    device = torch.device(\"cuda:0\" if torch.cuda.is_available() else \"cpu\")\n",
    "\n",
    "    for batch_idx, (data, target) in enumerate(testloader):\n",
    "        if batch_idx == STEPS_PER_TEST_EPOCH:\n",
    "            break\n",
    "\n",
    "        # Model is used to predict the test data so we are switching off the gradient\n",
    "\n",
    "        with torch.no_grad():\n",
    "\n",
    "            data = data.to(device)\n",
    "            target = target.long().to(device)\n",
    "            output = model(data)\n",
    "            criterion = nn.CrossEntropyLoss()\n",
    "            loss = criterion(output, target)\n",
    "\n",
    "            # Note that optimizer is not used because the model shouldn't learn the test dataset\n",
    "\n",
    "            for i in range(BATCH_SIZE):\n",
    "                a = []\n",
    "                for j in output[i]:\n",
    "                    a.append(float(j.detach()))\n",
    "\n",
    "                pred = a.index(max(a))\n",
    "\n",
    "                if pred == int(target[i]):\n",
    "                    correct = correct + 1\n",
    "\n",
    "                else:\n",
    "                    incorrect = incorrect + 1\n",
    "\n",
    "        test_loss.append(float(loss.detach()))\n",
    "    print(\"CORRECT: \" + str(correct), \"INCORRECT: \" + str(incorrect),\"TEST ACCURACY: \"+str(correct/(correct+incorrect)))\n",
    "    return (\n",
    "            correct/(incorrect+correct),\n",
    "            sum(test_loss)/len(test_loss),\n",
    "    )"
   ]
  },
  {
   "cell_type": "code",
   "execution_count": 59,
   "id": "53b65a87-112f-4d94-914c-c67893873244",
   "metadata": {},
   "outputs": [
    {
     "name": "stdout",
     "output_type": "stream",
     "text": [
      "CORRECT: 92 INCORRECT: 100 TEST ACCURACY: 0.4791666666666667\n",
      "ACCURACY AND LOSS BEFORE TUNING\n",
      "ACCURACY : 0.4791666666666667 LOSS : 0.9657054990530014\n"
     ]
    }
   ],
   "source": [
    "acc_ , loss_ = get_test()\n",
    "print(\"ACCURACY AND LOSS BEFORE TUNING\")\n",
    "print(\"ACCURACY : \"+str(acc_),\"LOSS : \"+str(loss_))"
   ]
  },
  {
   "cell_type": "code",
   "execution_count": 60,
   "id": "ba9ad283-a8be-4f84-add2-56b6e63fc018",
   "metadata": {},
   "outputs": [
    {
     "name": "stdout",
     "output_type": "stream",
     "text": [
      "Epoch 1/10, Train Loss: 0.3471, Train Acc: 0.8672, Test Loss: 0.2065, Test Acc: 0.9300, Time: 51.88s\n",
      "Epoch 2/10, Train Loss: 0.1968, Train Acc: 0.9330, Test Loss: 0.1535, Test Acc: 0.9500, Time: 52.57s\n",
      "Epoch 3/10, Train Loss: 0.1564, Train Acc: 0.9471, Test Loss: 0.1458, Test Acc: 0.9500, Time: 53.03s\n",
      "Epoch 4/10, Train Loss: 0.1444, Train Acc: 0.9483, Test Loss: 0.1343, Test Acc: 0.9650, Time: 50.76s\n",
      "Epoch 5/10, Train Loss: 0.1353, Train Acc: 0.9516, Test Loss: 0.1267, Test Acc: 0.9550, Time: 41.76s\n",
      "Epoch 6/10, Train Loss: 0.1367, Train Acc: 0.9495, Test Loss: 0.1224, Test Acc: 0.9600, Time: 42.27s\n",
      "Epoch 7/10, Train Loss: 0.1322, Train Acc: 0.9514, Test Loss: 0.1298, Test Acc: 0.9600, Time: 43.90s\n",
      "Epoch 8/10, Train Loss: 0.1305, Train Acc: 0.9503, Test Loss: 0.1199, Test Acc: 0.9650, Time: 50.37s\n",
      "Epoch 9/10, Train Loss: 0.1251, Train Acc: 0.9533, Test Loss: 0.1353, Test Acc: 0.9650, Time: 37.74s\n",
      "Epoch 10/10, Train Loss: 0.1231, Train Acc: 0.9526, Test Loss: 0.1153, Test Acc: 0.9650, Time: 40.68s\n"
     ]
    }
   ],
   "source": [
    "avg_train_accuracy_history = []\n",
    "avg_test_accuracy_history = []\n",
    "\n",
    "def train_one_epoch(model, loader, optimizer, criterion, device):\n",
    "    model.train()  # set model to training mode\n",
    "    running_loss = 0.0\n",
    "    running_correct = 0\n",
    "    total_samples = 0\n",
    "\n",
    "    for data, target in loader:\n",
    "        data, target = data.to(device), target.to(device)\n",
    "        optimizer.zero_grad()\n",
    "        output = model(data)\n",
    "        loss = criterion(output, target)\n",
    "        loss.backward()\n",
    "        optimizer.step()\n",
    "\n",
    "        # Compute accuracy\n",
    "        preds = torch.argmax(output, dim=1)\n",
    "        correct = (preds == target).sum().item()\n",
    "        \n",
    "        running_loss += loss.item() * data.size(0)\n",
    "        running_correct += correct\n",
    "        total_samples += data.size(0)\n",
    "\n",
    "    epoch_loss = running_loss / total_samples\n",
    "    epoch_acc = running_correct / total_samples\n",
    "    return epoch_loss, epoch_acc\n",
    "\n",
    "def evaluate(model, loader, criterion, device):\n",
    "    model.eval()  # set model to eval mode\n",
    "    running_loss = 0.0\n",
    "    running_correct = 0\n",
    "    total_samples = 0\n",
    "\n",
    "    with torch.no_grad():\n",
    "        for data, target in loader:\n",
    "            data, target = data.to(device), target.to(device)\n",
    "            output = model(data)\n",
    "            loss = criterion(output, target)\n",
    "\n",
    "            preds = torch.argmax(output, dim=1)\n",
    "            correct = (preds == target).sum().item()\n",
    "            \n",
    "            running_loss += loss.item() * data.size(0)\n",
    "            running_correct += correct\n",
    "            total_samples += data.size(0)\n",
    "\n",
    "    epoch_loss = running_loss / total_samples\n",
    "    epoch_acc = running_correct / total_samples\n",
    "    return epoch_loss, epoch_acc\n",
    "\n",
    "best_acc = 0.0\n",
    "for epoch in range(EPOCHS):\n",
    "    start_time = time.time()\n",
    "    train_loss, train_acc = train_one_epoch(model, trainloader, optimizer, criterion, device)\n",
    "    test_loss, test_acc = evaluate(model, testloader, criterion, device)\n",
    "    end_time = time.time()\n",
    "    \n",
    "    print(f\"Epoch {epoch+1}/{EPOCHS}, \"\n",
    "          f\"Train Loss: {train_loss:.4f}, Train Acc: {train_acc:.4f}, \"\n",
    "          f\"Test Loss: {test_loss:.4f}, Test Acc: {test_acc:.4f}, \"\n",
    "          f\"Time: {end_time - start_time:.2f}s\")\n",
    "    \n",
    "    avg_train_accuracy_history.append(train_acc)\n",
    "    avg_test_accuracy_history.append(test_acc)\n",
    "\n",
    "    if test_acc > best_acc:\n",
    "        best_acc = test_acc\n",
    "        torch.save(model.state_dict(), \"poison/notebooks/model_save/model.pth\")\n"
   ]
  },
  {
   "cell_type": "code",
   "execution_count": 64,
   "id": "507531db",
   "metadata": {},
   "outputs": [],
   "source": [
    "image_paths = sorted(glob.glob(os.path.join(\"poison/notebooks/data/noisy_vs_clean/test\", \"*.*\")))\n",
    "\n",
    "with open(\"labels.txt\", \"w\") as f:\n",
    "    with torch.no_grad():\n",
    "        for img_path in image_paths:\n",
    "            img = Image.open(img_path).convert(\"RGB\")\n",
    "            input_tensor = transform(img).unsqueeze(0).to(device)\n",
    "            \n",
    "            output = model(input_tensor)\n",
    "            pred = torch.argmax(output, dim=1).item()\n",
    "            \n",
    "            label = \"bad\" if pred == 1 else \"good\"\n",
    "            f.write(label + \"\\n\")"
   ]
  },
  {
   "cell_type": "code",
   "execution_count": 62,
   "id": "60e28fc0-05b7-4415-b485-8648e8ccc006",
   "metadata": {},
   "outputs": [
    {
     "name": "stdout",
     "output_type": "stream",
     "text": [
      "ACCURACY :  0.965\n"
     ]
    }
   ],
   "source": [
    "print(\"ACCURACY : \", best_acc)"
   ]
  },
  {
   "cell_type": "code",
   "execution_count": 63,
   "id": "a6c0ec37-9fc3-49ca-b5c6-e78eae39e459",
   "metadata": {},
   "outputs": [
    {
     "data": {
      "text/plain": [
       "<function matplotlib.pyplot.legend(*args, **kwargs) -> 'Legend'>"
      ]
     },
     "execution_count": 63,
     "metadata": {},
     "output_type": "execute_result"
    },
    {
     "data": {
      "image/png": "[encoded data removed]",
      "text/plain": [
       "<Figure size 640x480 with 1 Axes>"
      ]
     },
     "metadata": {},
     "output_type": "display_data"
    }
   ],
   "source": [
    "plt.plot(avg_train_accuracy_history , label = \"Train\")\n",
    "plt.plot(avg_test_accuracy_history , label = \"Test\")\n",
    "plt.title('ACCURACY PER EPOCH')\n",
    "plt.xlabel(\"EPOCHS\")\n",
    "plt.ylabel(\"ACCURACY\")\n",
    "plt.legend"
   ]
  }
 ],
 "metadata": {
  "kernelspec": {
   "display_name": "Python 3 (ipykernel)",
   "language": "python",
   "name": "python3"
  },
  "language_info": {
   "codemirror_mode": {
    "name": "ipython",
    "version": 3
   },
   "file_extension": ".py",
   "mimetype": "text/x-python",
   "name": "python",
   "nbconvert_exporter": "python",
   "pygments_lexer": "ipython3",
   "version": "3.9.20"
  }
 },
 "nbformat": 4,
 "nbformat_minor": 5
}
